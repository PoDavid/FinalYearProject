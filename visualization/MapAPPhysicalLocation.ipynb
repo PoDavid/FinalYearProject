{
 "cells": [
  {
   "cell_type": "code",
   "execution_count": 1,
   "metadata": {
    "pycharm": {
     "is_executing": false
    }
   },
   "outputs": [],
   "source": [
    "import pandas as pd\n",
    "import os\n",
    "import matplotlib.pyplot as plt\n",
    "%matplotlib inline"
   ]
  },
  {
   "cell_type": "code",
   "execution_count": 2,
   "metadata": {
    "pycharm": {
     "is_executing": false
    }
   },
   "outputs": [
    {
     "data": {
      "text/plain": "       Time          StatusCode     UserMacAddress                 Username  \\\n0  00:00:01  StationDeAssocTrap  58:44:98:21:F3:AD                 u3527213   \n1  00:00:04  StationDeAssocTrap  B8:27:EB:B3:02:29                      NaN   \n2  00:00:04  StationDeAssocTrap  1C:AB:A7:8C:1A:EA                      NaN   \n3  00:00:08  StationDeAssocTrap  04:4B:ED:3F:AB:EE                 u3534769   \n4  00:00:10  StationDeAssocTrap  D0:A6:37:29:33:DA                      NaN   \n5  00:00:13  StationDeAssocTrap  58:44:98:21:F3:AD                 u3527213   \n6  00:00:14  StationDeAssocTrap  70:48:0F:75:FB:D6  s1155029155@cuhk.edu.hk   \n7  00:00:15  StationDeAssocTrap  1C:5C:F2:CF:D1:B0                      NaN   \n8  00:00:21  StationDeAssocTrap  64:CC:2E:9F:2D:E9               Shtc233611   \n9  00:00:21  StationDeAssocTrap  84:29:99:69:11:B5                 u3502147   \n\n   VLANId  RadioId              SSID  SessionDuration                  APID  \\\n0     255        2               HKU               59  210235A1BSC14C000101   \n1     465        2  Wi-Fi.HK via HKU             1904  210235A42MB099000118   \n2     467        2  Wi-Fi.HK via HKU               22  210235A42MC117000082   \n3     270        1               HKU            15595  210235A0T6C13B000168   \n4     221        2  CSL Auto Connect               21  210235A1BSC156900655   \n5     255        1               HKU               12  210235A1BSC14B001596   \n6     222        1           eduroam               34  210235A1BSC156900388   \n7     221        2  CSL Auto Connect               17  210235A0T6C12A000168   \n8     221        2  CSL Auto Connect            12471  210235A1BSC161000511   \n9     222        1           eduroam               15  210235A42MB099000200   \n\n            Location       APMacAddress  \n0    roc_cob_ug213_4  80:F6:2E:53:E8:53  \n1      roc_cob_lg108  00:23:89:6A:AE:B2  \n2       roc_qadm_701  38:22:D6:CD:DC:D2  \n3      roc_gh_p207_1  58:66:BA:AB:71:E3  \n4  roc_qmmb_cr1a11_1  70:BA:EF:CA:1E:B4  \n5    roc_cob_ug213_3  80:F6:2E:53:57:23  \n6    roc_us_cr_cpr_2  70:BA:EF:C9:FB:C1  \n7      roc_qk_1009_1  58:66:BA:A0:8F:94  \n8       roc_eb_lg5_1  38:97:D6:DF:82:D4  \n9    roc_cob_ug202_2  00:23:89:6A:B8:E1  ",
      "text/html": "<div>\n<style scoped>\n    .dataframe tbody tr th:only-of-type {\n        vertical-align: middle;\n    }\n\n    .dataframe tbody tr th {\n        vertical-align: top;\n    }\n\n    .dataframe thead th {\n        text-align: right;\n    }\n</style>\n<table border=\"1\" class=\"dataframe\">\n  <thead>\n    <tr style=\"text-align: right;\">\n      <th></th>\n      <th>Time</th>\n      <th>StatusCode</th>\n      <th>UserMacAddress</th>\n      <th>Username</th>\n      <th>VLANId</th>\n      <th>RadioId</th>\n      <th>SSID</th>\n      <th>SessionDuration</th>\n      <th>APID</th>\n      <th>Location</th>\n      <th>APMacAddress</th>\n    </tr>\n  </thead>\n  <tbody>\n    <tr>\n      <th>0</th>\n      <td>00:00:01</td>\n      <td>StationDeAssocTrap</td>\n      <td>58:44:98:21:F3:AD</td>\n      <td>u3527213</td>\n      <td>255</td>\n      <td>2</td>\n      <td>HKU</td>\n      <td>59</td>\n      <td>210235A1BSC14C000101</td>\n      <td>roc_cob_ug213_4</td>\n      <td>80:F6:2E:53:E8:53</td>\n    </tr>\n    <tr>\n      <th>1</th>\n      <td>00:00:04</td>\n      <td>StationDeAssocTrap</td>\n      <td>B8:27:EB:B3:02:29</td>\n      <td>NaN</td>\n      <td>465</td>\n      <td>2</td>\n      <td>Wi-Fi.HK via HKU</td>\n      <td>1904</td>\n      <td>210235A42MB099000118</td>\n      <td>roc_cob_lg108</td>\n      <td>00:23:89:6A:AE:B2</td>\n    </tr>\n    <tr>\n      <th>2</th>\n      <td>00:00:04</td>\n      <td>StationDeAssocTrap</td>\n      <td>1C:AB:A7:8C:1A:EA</td>\n      <td>NaN</td>\n      <td>467</td>\n      <td>2</td>\n      <td>Wi-Fi.HK via HKU</td>\n      <td>22</td>\n      <td>210235A42MC117000082</td>\n      <td>roc_qadm_701</td>\n      <td>38:22:D6:CD:DC:D2</td>\n    </tr>\n    <tr>\n      <th>3</th>\n      <td>00:00:08</td>\n      <td>StationDeAssocTrap</td>\n      <td>04:4B:ED:3F:AB:EE</td>\n      <td>u3534769</td>\n      <td>270</td>\n      <td>1</td>\n      <td>HKU</td>\n      <td>15595</td>\n      <td>210235A0T6C13B000168</td>\n      <td>roc_gh_p207_1</td>\n      <td>58:66:BA:AB:71:E3</td>\n    </tr>\n    <tr>\n      <th>4</th>\n      <td>00:00:10</td>\n      <td>StationDeAssocTrap</td>\n      <td>D0:A6:37:29:33:DA</td>\n      <td>NaN</td>\n      <td>221</td>\n      <td>2</td>\n      <td>CSL Auto Connect</td>\n      <td>21</td>\n      <td>210235A1BSC156900655</td>\n      <td>roc_qmmb_cr1a11_1</td>\n      <td>70:BA:EF:CA:1E:B4</td>\n    </tr>\n    <tr>\n      <th>5</th>\n      <td>00:00:13</td>\n      <td>StationDeAssocTrap</td>\n      <td>58:44:98:21:F3:AD</td>\n      <td>u3527213</td>\n      <td>255</td>\n      <td>1</td>\n      <td>HKU</td>\n      <td>12</td>\n      <td>210235A1BSC14B001596</td>\n      <td>roc_cob_ug213_3</td>\n      <td>80:F6:2E:53:57:23</td>\n    </tr>\n    <tr>\n      <th>6</th>\n      <td>00:00:14</td>\n      <td>StationDeAssocTrap</td>\n      <td>70:48:0F:75:FB:D6</td>\n      <td>s1155029155@cuhk.edu.hk</td>\n      <td>222</td>\n      <td>1</td>\n      <td>eduroam</td>\n      <td>34</td>\n      <td>210235A1BSC156900388</td>\n      <td>roc_us_cr_cpr_2</td>\n      <td>70:BA:EF:C9:FB:C1</td>\n    </tr>\n    <tr>\n      <th>7</th>\n      <td>00:00:15</td>\n      <td>StationDeAssocTrap</td>\n      <td>1C:5C:F2:CF:D1:B0</td>\n      <td>NaN</td>\n      <td>221</td>\n      <td>2</td>\n      <td>CSL Auto Connect</td>\n      <td>17</td>\n      <td>210235A0T6C12A000168</td>\n      <td>roc_qk_1009_1</td>\n      <td>58:66:BA:A0:8F:94</td>\n    </tr>\n    <tr>\n      <th>8</th>\n      <td>00:00:21</td>\n      <td>StationDeAssocTrap</td>\n      <td>64:CC:2E:9F:2D:E9</td>\n      <td>Shtc233611</td>\n      <td>221</td>\n      <td>2</td>\n      <td>CSL Auto Connect</td>\n      <td>12471</td>\n      <td>210235A1BSC161000511</td>\n      <td>roc_eb_lg5_1</td>\n      <td>38:97:D6:DF:82:D4</td>\n    </tr>\n    <tr>\n      <th>9</th>\n      <td>00:00:21</td>\n      <td>StationDeAssocTrap</td>\n      <td>84:29:99:69:11:B5</td>\n      <td>u3502147</td>\n      <td>222</td>\n      <td>1</td>\n      <td>eduroam</td>\n      <td>15</td>\n      <td>210235A42MB099000200</td>\n      <td>roc_cob_ug202_2</td>\n      <td>00:23:89:6A:B8:E1</td>\n    </tr>\n  </tbody>\n</table>\n</div>"
     },
     "metadata": {},
     "output_type": "execute_result",
     "execution_count": 2
    }
   ],
   "source": [
    "#Load in DeAssocTrap File Containing AP Physical Location\n",
    "DeAssocTrap_file1 = \"../sortlog/h3c-wx7-20161118/h3c-wx7-20161118-warning-formatted/h3c-wx7-20161118-hh3cDot11StationDeAssocTrap-formatted.csv\"\n",
    "DeAssocTrap_file2 = \"../sortlog/h3c-wx8-20161118/h3c-wx8-20161118-warning-formatted/h3c-wx8-20161118-hh3cDot11StationDeAssocTrap-formatted.csv\"\n",
    "df_1 = pd.read_csv(DeAssocTrap_file1, engine='python', delimiter=',')\n",
    "df_2 = pd.read_csv(DeAssocTrap_file2, engine='python', delimiter=',')\n",
    "df= pd.concat([df_1,df_2])\n",
    "df.head(10)"
   ]
  },
  {
   "cell_type": "code",
   "execution_count": 3,
   "metadata": {
    "pycharm": {
     "is_executing": false
    }
   },
   "outputs": [
    {
     "name": "stdout",
     "text": [
      "<class 'pandas.core.frame.DataFrame'>\n",
      "Int64Index: 434031 entries, 0 to 228416\n",
      "Data columns (total 2 columns):\n",
      "APMacAddress    434031 non-null object\n",
      "Location        434031 non-null object\n",
      "dtypes: object(2)\n",
      "memory usage: 6.6+ MB\n"
     ],
     "output_type": "stream"
    }
   ],
   "source": [
    "#Trim the df to AP Mac Address & Location Mapping\n",
    "location_df = pd.DataFrame()\n",
    "location_df[\"APMacAddress\"] = df[\"APMacAddress\"]\n",
    "location_df[\"Location\"] = df[\"Location\"]\n",
    "location_df.info()"
   ]
  },
  {
   "cell_type": "code",
   "execution_count": 4,
   "metadata": {
    "pycharm": {
     "is_executing": false
    }
   },
   "outputs": [
    {
     "data": {
      "text/plain": "        APMacAddress           Location\n0  80:F6:2E:53:E8:53    roc_cob_ug213_4\n1  00:23:89:6A:AE:B2      roc_cob_lg108\n2  38:22:D6:CD:DC:D2       roc_qadm_701\n3  58:66:BA:AB:71:E3      roc_gh_p207_1\n4  70:BA:EF:CA:1E:B4  roc_qmmb_cr1a11_1\n5  80:F6:2E:53:57:23    roc_cob_ug213_3\n6  70:BA:EF:C9:FB:C1    roc_us_cr_cpr_2\n7  58:66:BA:A0:8F:94      roc_qk_1009_1\n8  38:97:D6:DF:82:D4       roc_eb_lg5_1\n9  00:23:89:6A:B8:E1    roc_cob_ug202_2",
      "text/html": "<div>\n<style scoped>\n    .dataframe tbody tr th:only-of-type {\n        vertical-align: middle;\n    }\n\n    .dataframe tbody tr th {\n        vertical-align: top;\n    }\n\n    .dataframe thead th {\n        text-align: right;\n    }\n</style>\n<table border=\"1\" class=\"dataframe\">\n  <thead>\n    <tr style=\"text-align: right;\">\n      <th></th>\n      <th>APMacAddress</th>\n      <th>Location</th>\n    </tr>\n  </thead>\n  <tbody>\n    <tr>\n      <th>0</th>\n      <td>80:F6:2E:53:E8:53</td>\n      <td>roc_cob_ug213_4</td>\n    </tr>\n    <tr>\n      <th>1</th>\n      <td>00:23:89:6A:AE:B2</td>\n      <td>roc_cob_lg108</td>\n    </tr>\n    <tr>\n      <th>2</th>\n      <td>38:22:D6:CD:DC:D2</td>\n      <td>roc_qadm_701</td>\n    </tr>\n    <tr>\n      <th>3</th>\n      <td>58:66:BA:AB:71:E3</td>\n      <td>roc_gh_p207_1</td>\n    </tr>\n    <tr>\n      <th>4</th>\n      <td>70:BA:EF:CA:1E:B4</td>\n      <td>roc_qmmb_cr1a11_1</td>\n    </tr>\n    <tr>\n      <th>5</th>\n      <td>80:F6:2E:53:57:23</td>\n      <td>roc_cob_ug213_3</td>\n    </tr>\n    <tr>\n      <th>6</th>\n      <td>70:BA:EF:C9:FB:C1</td>\n      <td>roc_us_cr_cpr_2</td>\n    </tr>\n    <tr>\n      <th>7</th>\n      <td>58:66:BA:A0:8F:94</td>\n      <td>roc_qk_1009_1</td>\n    </tr>\n    <tr>\n      <th>8</th>\n      <td>38:97:D6:DF:82:D4</td>\n      <td>roc_eb_lg5_1</td>\n    </tr>\n    <tr>\n      <th>9</th>\n      <td>00:23:89:6A:B8:E1</td>\n      <td>roc_cob_ug202_2</td>\n    </tr>\n  </tbody>\n</table>\n</div>"
     },
     "metadata": {},
     "output_type": "execute_result",
     "execution_count": 4
    }
   ],
   "source": [
    "location_df.head(10)"
   ]
  },
  {
   "cell_type": "code",
   "execution_count": 5,
   "metadata": {
    "pycharm": {
     "is_executing": false
    }
   },
   "outputs": [
    {
     "name": "stdout",
     "text": [
      "<class 'pandas.core.frame.DataFrame'>\n",
      "Int64Index: 6329 entries, 0 to 227018\n",
      "Data columns (total 2 columns):\n",
      "APMacAddress    6329 non-null object\n",
      "Location        6329 non-null object\n",
      "dtypes: object(2)\n",
      "memory usage: 98.9+ KB\n"
     ],
     "output_type": "stream"
    }
   ],
   "source": [
    "#Remove Duplicate Line\n",
    "location_df.drop_duplicates(subset=[\"APMacAddress\",\"Location\"], inplace=True)\n",
    "location_df.head(10)\n",
    "location_df.info()"
   ]
  },
  {
   "cell_type": "code",
   "execution_count": 6,
   "metadata": {
    "pycharm": {
     "is_executing": false
    }
   },
   "outputs": [
    {
     "data": {
      "text/plain": "        APMacAddress           Location\n0  80:F6:2E:53:E8:53    roc_cob_ug213_4\n1  00:23:89:6A:AE:B2      roc_cob_lg108\n2  38:22:D6:CD:DC:D2       roc_qadm_701\n3  58:66:BA:AB:71:E3      roc_gh_p207_1\n4  70:BA:EF:CA:1E:B4  roc_qmmb_cr1a11_1\n5  80:F6:2E:53:57:23    roc_cob_ug213_3\n6  70:BA:EF:C9:FB:C1    roc_us_cr_cpr_2\n7  58:66:BA:A0:8F:94      roc_qk_1009_1\n8  38:97:D6:DF:82:D4       roc_eb_lg5_1\n9  00:23:89:6A:B8:E1    roc_cob_ug202_2",
      "text/html": "<div>\n<style scoped>\n    .dataframe tbody tr th:only-of-type {\n        vertical-align: middle;\n    }\n\n    .dataframe tbody tr th {\n        vertical-align: top;\n    }\n\n    .dataframe thead th {\n        text-align: right;\n    }\n</style>\n<table border=\"1\" class=\"dataframe\">\n  <thead>\n    <tr style=\"text-align: right;\">\n      <th></th>\n      <th>APMacAddress</th>\n      <th>Location</th>\n    </tr>\n  </thead>\n  <tbody>\n    <tr>\n      <th>0</th>\n      <td>80:F6:2E:53:E8:53</td>\n      <td>roc_cob_ug213_4</td>\n    </tr>\n    <tr>\n      <th>1</th>\n      <td>00:23:89:6A:AE:B2</td>\n      <td>roc_cob_lg108</td>\n    </tr>\n    <tr>\n      <th>2</th>\n      <td>38:22:D6:CD:DC:D2</td>\n      <td>roc_qadm_701</td>\n    </tr>\n    <tr>\n      <th>3</th>\n      <td>58:66:BA:AB:71:E3</td>\n      <td>roc_gh_p207_1</td>\n    </tr>\n    <tr>\n      <th>4</th>\n      <td>70:BA:EF:CA:1E:B4</td>\n      <td>roc_qmmb_cr1a11_1</td>\n    </tr>\n    <tr>\n      <th>5</th>\n      <td>80:F6:2E:53:57:23</td>\n      <td>roc_cob_ug213_3</td>\n    </tr>\n    <tr>\n      <th>6</th>\n      <td>70:BA:EF:C9:FB:C1</td>\n      <td>roc_us_cr_cpr_2</td>\n    </tr>\n    <tr>\n      <th>7</th>\n      <td>58:66:BA:A0:8F:94</td>\n      <td>roc_qk_1009_1</td>\n    </tr>\n    <tr>\n      <th>8</th>\n      <td>38:97:D6:DF:82:D4</td>\n      <td>roc_eb_lg5_1</td>\n    </tr>\n    <tr>\n      <th>9</th>\n      <td>00:23:89:6A:B8:E1</td>\n      <td>roc_cob_ug202_2</td>\n    </tr>\n  </tbody>\n</table>\n</div>"
     },
     "metadata": {},
     "output_type": "execute_result",
     "execution_count": 6
    }
   ],
   "source": [
    "location_df.head(10)"
   ]
  },
  {
   "cell_type": "code",
   "execution_count": 7,
   "metadata": {
    "pycharm": {
     "is_executing": false
    }
   },
   "outputs": [
    {
     "data": {
      "text/plain": "11    237\n10    167\n9     119\n8      60\n7      36\n6      25\n5      11\n4       8\n3       2\n2       2\n1       2\nName: Location, dtype: int64"
     },
     "metadata": {},
     "output_type": "execute_result",
     "execution_count": 7
    }
   ],
   "source": [
    "#Group By Vendor and Count *\n",
    "stat_df = location_df.Location.value_counts()\n",
    "stat_df.sort_values(ascending=False, inplace=True)\n",
    "freq_df = stat_df.value_counts()\n",
    "freq_df"
   ]
  },
  {
   "cell_type": "code",
   "execution_count": 8,
   "metadata": {
    "pycharm": {
     "is_executing": false
    }
   },
   "outputs": [
    {
     "data": {
      "text/plain": "<matplotlib.axes._subplots.AxesSubplot at 0x10f126d0>"
     },
     "metadata": {},
     "output_type": "execute_result",
     "execution_count": 8
    },
    {
     "data": {
      "text/plain": "<Figure size 432x288 with 1 Axes>",
      "image/png": "[encoded data removed]"
     },
     "metadata": {
      "needs_background": "light"
     },
     "output_type": "display_data"
    }
   ],
   "source": [
    "#Generate Chart\n",
    "plt.title(\"Frequency Distribution of No. of AP in a Location\")\n",
    "plt.ylabel(\"No. of Location\")\n",
    "plt.xlabel(\"No. of AP\")\n",
    "freq_df.plot(kind=\"bar\")"
   ]
  },
  {
   "cell_type": "code",
   "execution_count": 9,
   "metadata": {
    "pycharm": {
     "is_executing": false
    }
   },
   "outputs": [],
   "source": [
    "# Output the Mapping to a CSV File\n",
    "outfile_path=r\"../reference-table/APLocationMapping.csv\"\n",
    "location_df.to_csv(outfile_path, index = None, header=True)"
   ]
  },
  {
   "cell_type": "code",
   "execution_count": 10,
   "metadata": {
    "pycharm": {
     "name": "#%%\n",
     "is_executing": false
    }
   },
   "outputs": [
    {
     "data": {
      "text/plain": "'roc_cob_ug213_3'"
     },
     "metadata": {},
     "output_type": "execute_result",
     "execution_count": 10
    }
   ],
   "source": [
    "location = location_df.loc[location_df[\"APMacAddress\"]==\"80:F6:2E:53:57:23\"]\n",
    "location.iloc[0][1]"
   ]
  }
 ],
 "metadata": {
  "kernelspec": {
   "display_name": "Python 3",
   "language": "python",
   "name": "python3"
  },
  "language_info": {
   "codemirror_mode": {
    "name": "ipython",
    "version": 3
   },
   "file_extension": ".py",
   "mimetype": "text/x-python",
   "name": "python",
   "nbconvert_exporter": "python",
   "pygments_lexer": "ipython3",
   "version": "3.7.0"
  },
  "pycharm": {
   "stem_cell": {
    "cell_type": "raw",
    "source": [],
    "metadata": {
     "collapsed": false
    }
   }
  }
 },
 "nbformat": 4,
 "nbformat_minor": 1
}